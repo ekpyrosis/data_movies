{
 "cells": [
  {
   "cell_type": "markdown",
   "metadata": {
    "_uuid": "077a9159da1d1210b946ac6fc05d2c354fe1ac0c"
   },
   "source": [
    "# Movie Data Analysis using TMDb dataset\n",
    "\n",
    "## Table of Contents\n",
    "<ul>\n",
    "<li><a href=\"#intro\">Introduction</a></li>\n",
    "<li><a href=\"#wrangling\">Data Wrangling</a></li>\n",
    "<li><a href=\"#eda\">Exploratory Data Analysis</a></li>\n",
    "<li><a href=\"#conclusions\">Conclusions</a></li>\n",
    "</ul>"
   ]
  },
  {
   "cell_type": "markdown",
   "metadata": {
    "_uuid": "f5be2847e6df9d56201c44091ab1d0e2f8c77456"
   },
   "source": [
    "<a id='intro'></a>\n",
    "## Introduction\n",
    "In this project I will analyse TMDb's data set containing information about 10,866 movies published between 1960 and 2015.\n",
    "\n",
    "### Research Questions (Q): \n",
    "<ul>\n",
    "<li><a href=\"#q1\">1. Which genres are the most common (number of movies made)?</a></li>\n",
    "<li><a href=\"#q2\">2. Which genres have high avg. budget and revenue?</a></li>\n",
    "<li><a href=\"#q3\">3. Which genres have high avg. profit?</a></li>\n",
    "<li><a href=\"#q4\">4. Which genres have high vote avg.?</a></li>\n",
    "<li><a href=\"#q5\">5. Which genres have high avg. popularity?</a></li>\n",
    "<li><a href=\"#q6\">6. Which genres have high avg. vote count?</a></li>\n",
    "<li><a href=\"#q7\">7. Which genres have high number of movies with an voting avg. >=8?</a></li>\n",
    "</ul>\n",
    "\n",
    "<ul>\n",
    "<li><a href=\"#analysis\">Analysis of development of means of variables per genre over the years</a></li>\n",
    "</ul>\n",
    "\n",
    "### Research Hypotheses (H): \n",
    "<ul>\n",
    "<li><a href=\"#h1\">1. The best movies according to vote avg. return high profit and revenue.</a></li>\n",
    "<li><a href=\"#h2\">2. The best movies according to popularity return high profit and revenue.</a></li>\n",
    "<li><a href=\"#h3\">3. Highly budgeted movies return high revenue and profit.</a></li>\n",
    "<li><a href=\"#h4\">4. Highly budgeted movies have a high vote avg.</a></li>\n",
    "<li><a href=\"#h5\">5. Highly budgeted movies have a high popularity.</a></li>\n",
    "</ul>"
   ]
  },
  {
   "cell_type": "markdown",
   "metadata": {
    "_uuid": "eb88bdf0a73e0e264318fe9d404c2a921611c6c8"
   },
   "source": [
    "<a id='wrangling'></a>\n",
    "## Data Wrangling\n",
    "\n",
    "### General Properties\n",
    "- Load data\n",
    "- Get general info and overview\n",
    "- Identify problems and actions to analyse research questions"
   ]
  },
  {
   "cell_type": "code",
   "execution_count": 1,
   "metadata": {
    "_uuid": "0669dc483cbcb54fddd123f2f5a2e61dc7e89a13",
    "collapsed": true
   },
   "outputs": [
    {
     "ename": "ModuleNotFoundError",
     "evalue": "No module named 'seaborn'",
     "output_type": "error",
     "traceback": [
      "\u001b[0;31m---------------------------------------------------------------------------\u001b[0m",
      "\u001b[0;31mModuleNotFoundError\u001b[0m                       Traceback (most recent call last)",
      "\u001b[0;32m<ipython-input-1-e91feac79b25>\u001b[0m in \u001b[0;36m<module>\u001b[0;34m\u001b[0m\n\u001b[1;32m      5\u001b[0m \u001b[0;32mimport\u001b[0m \u001b[0mmatplotlib\u001b[0m\u001b[0;34m.\u001b[0m\u001b[0mpyplot\u001b[0m \u001b[0;32mas\u001b[0m \u001b[0mplt\u001b[0m\u001b[0;34m\u001b[0m\u001b[0;34m\u001b[0m\u001b[0m\n\u001b[1;32m      6\u001b[0m \u001b[0mget_ipython\u001b[0m\u001b[0;34m(\u001b[0m\u001b[0;34m)\u001b[0m\u001b[0;34m.\u001b[0m\u001b[0mrun_line_magic\u001b[0m\u001b[0;34m(\u001b[0m\u001b[0;34m'matplotlib'\u001b[0m\u001b[0;34m,\u001b[0m \u001b[0;34m'inline'\u001b[0m\u001b[0;34m)\u001b[0m\u001b[0;34m\u001b[0m\u001b[0;34m\u001b[0m\u001b[0m\n\u001b[0;32m----> 7\u001b[0;31m \u001b[0;32mimport\u001b[0m \u001b[0mseaborn\u001b[0m \u001b[0;32mas\u001b[0m \u001b[0msns\u001b[0m\u001b[0;34m\u001b[0m\u001b[0;34m\u001b[0m\u001b[0m\n\u001b[0m\u001b[1;32m      8\u001b[0m \u001b[0;34m\u001b[0m\u001b[0m\n\u001b[1;32m      9\u001b[0m \u001b[0;31m# Remember to include a 'magic word' so that your visualizations are plotted\u001b[0m\u001b[0;34m\u001b[0m\u001b[0;34m\u001b[0m\u001b[0;34m\u001b[0m\u001b[0m\n",
      "\u001b[0;31mModuleNotFoundError\u001b[0m: No module named 'seaborn'"
     ]
    }
   ],
   "source": [
    "# Use this cell to set up import statements for all of the packages that you plan to use.\n",
    "import pandas as pd\n",
    "import numpy as np\n",
    "from pandas import Series, DataFrame\n",
    "import matplotlib.pyplot as plt\n",
    "%matplotlib inline\n",
    "import seaborn as sns\n",
    "\n",
    "# Remember to include a 'magic word' so that your visualizations are plotted\n",
    "#   inline with the notebook. See this page for more:\n",
    "#   http://ipython.readthedocs.io/en/stable/interactive/magics.html"
   ]
  },
  {
   "cell_type": "code",
   "execution_count": null,
   "metadata": {
    "_uuid": "2461891754a25662f65270f9373ad61ae04dbf55",
    "collapsed": true
   },
   "outputs": [],
   "source": [
    "# Load data\n",
    "moviedata = pd.read_csv('../input/tmdb-movies.csv')"
   ]
  },
  {
   "cell_type": "code",
   "execution_count": null,
   "metadata": {
    "_uuid": "5a6ffb2ccc88c70f4208c23f72d93ff29bd69b79",
    "collapsed": true
   },
   "outputs": [],
   "source": [
    "# Get general info\n",
    "moviedata.info()"
   ]
  },
  {
   "cell_type": "code",
   "execution_count": null,
   "metadata": {
    "_uuid": "86ff11b9969d228e81a96713411f8e09d5546ef7",
    "collapsed": true
   },
   "outputs": [],
   "source": [
    "# Get an overview\n",
    "moviedata.head()"
   ]
  },
  {
   "cell_type": "markdown",
   "metadata": {
    "_uuid": "5daa5a4e4dd4ff685685b99e8f61bcff14042556"
   },
   "source": [
    "Genres are separated with \"|\". I will need to split this column."
   ]
  },
  {
   "cell_type": "markdown",
   "metadata": {
    "_uuid": "104dd6d7148ca806fbc71baea12e37a9e81e9bf5"
   },
   "source": [
    "### Data Cleaning\n",
    "- Checking for and dropping of duplicates\n",
    "- Only keep columns that are needed for analysis\n",
    "- Create variable \"profit\"\n",
    "- Split genres"
   ]
  },
  {
   "cell_type": "code",
   "execution_count": null,
   "metadata": {
    "_uuid": "78e769fe803994b7fade42aedae5b7d7052c32aa",
    "collapsed": true
   },
   "outputs": [],
   "source": [
    "# Drop duplicates\n",
    "moviedata.drop_duplicates(inplace=True)\n",
    "# Check if done (-1 entry)\n",
    "moviedata.info()"
   ]
  },
  {
   "cell_type": "markdown",
   "metadata": {
    "_uuid": "52f853a3ae7efa3a213cc616301457884dde5de2"
   },
   "source": [
    "Almost all variables I need for my analysis have no null entries. Only for genres there are 23 null entries. In the next step I will first drop the null entries for genres and then only keep columns that I need for my further analysis. Plus, I will create a column showing the profit of each movie."
   ]
  },
  {
   "cell_type": "code",
   "execution_count": null,
   "metadata": {
    "_uuid": "fb7951312218fef8c02da4574128ede296c48686",
    "collapsed": true
   },
   "outputs": [],
   "source": [
    "# Drop rows containing missing values in genres\n",
    "moviedata.dropna(subset=['genres'], inplace=True)  \n",
    "moviedata.info()"
   ]
  },
  {
   "cell_type": "code",
   "execution_count": null,
   "metadata": {
    "_uuid": "914c77f8730f6e5aa41b095cb3f51c7f54b4e75d",
    "collapsed": true
   },
   "outputs": [],
   "source": [
    "# Create variable profit\n",
    "moviedata ['profit'] = moviedata['revenue'] - moviedata['budget']"
   ]
  },
  {
   "cell_type": "code",
   "execution_count": null,
   "metadata": {
    "_uuid": "b342a37d02696ad130dce18f79d5a54d73c7ea0b",
    "collapsed": true
   },
   "outputs": [],
   "source": [
    "# Only keep columns that are needed for further analysis using movie title as index\n",
    "md = moviedata[['popularity','budget','revenue', 'original_title','runtime', 'genres','vote_count','vote_average','profit','release_year']]\n",
    "# md.set_index('original_title', inplace=True)"
   ]
  },
  {
   "cell_type": "code",
   "execution_count": null,
   "metadata": {
    "_uuid": "f99a4f3394f7cd1cbb8b12502459e62283f1274d",
    "collapsed": true,
    "scrolled": true
   },
   "outputs": [],
   "source": [
    "# Check result\n",
    "md.head()"
   ]
  },
  {
   "cell_type": "code",
   "execution_count": null,
   "metadata": {
    "_uuid": "7b69f61440bed983dc89e9a5fc022d768d06a772",
    "collapsed": true
   },
   "outputs": [],
   "source": [
    "# Split genres and create a new entry for each of the genre a movie falls into\n",
    "s = md['genres'].str.split('|').apply(Series, 1).stack()\n",
    "s.index = s.index.droplevel(-1)\n",
    "s.name = 'genres'\n",
    "del md['genres']\n",
    "md_split_genres = md.join(s)\n"
   ]
  },
  {
   "cell_type": "code",
   "execution_count": null,
   "metadata": {
    "_uuid": "9c937ef90c43aeb111875e79b9c122e098de54cd",
    "collapsed": true
   },
   "outputs": [],
   "source": [
    "# Check result\n",
    "md_split_genres.head()"
   ]
  },
  {
   "cell_type": "code",
   "execution_count": null,
   "metadata": {
    "_uuid": "9bf38cbdb15a47d497984685396b67b3ab94411c",
    "collapsed": true
   },
   "outputs": [],
   "source": [
    "# Check entries (should be a lot more rows since the most movies have more than one genre)\n",
    "md_split_genres.shape"
   ]
  },
  {
   "cell_type": "markdown",
   "metadata": {
    "_uuid": "818b665f240296a97f59839736d1d7453f4fede6"
   },
   "source": [
    "Now the data is ready for exploratory analysis."
   ]
  },
  {
   "cell_type": "markdown",
   "metadata": {
    "_uuid": "f0c0882424326f16054cfb2842d60c9b9279e65b"
   },
   "source": [
    "<a id='eda'></a>\n",
    "## Exploratory Data Analysis\n",
    "\n",
    "\n",
    "### Explore Data\n",
    "- Distribution of variables\n",
    "- Descriptive statistics\n",
    "- Research Questions: Genre analysis (Q1 - Q7)\n",
    "- Research Hypotheses: Correlation analysis (H1 - H5)"
   ]
  },
  {
   "cell_type": "code",
   "execution_count": null,
   "metadata": {
    "_uuid": "8970700a3941a1facc2494c093e344a9f0078f1a",
    "collapsed": true
   },
   "outputs": [],
   "source": [
    "# Look at histograms to get idea of how variables are distrubuted (overall)\n",
    "md.hist(color='DarkBlue',figsize= (10,10));"
   ]
  },
  {
   "cell_type": "markdown",
   "metadata": {
    "_uuid": "220f9052128bea6cd86d69fc2c2db46fdf40d71e"
   },
   "source": [
    "All variables are skewed. The only variable that is closed to a normal distribution is vote avg. (slightly right skewed)."
   ]
  },
  {
   "cell_type": "code",
   "execution_count": null,
   "metadata": {
    "_uuid": "0bfdb12e2d811425863ec774e341c5fc89f03b5b",
    "collapsed": true
   },
   "outputs": [],
   "source": [
    "# Group data by genre and get mean for each genre and each variable, divide by 1 mio for clarity and better visibility\n",
    "md_genre_mean = md_split_genres.groupby(['genres']).mean()\n",
    "md_genre_mean ['profit_million'] = md_genre_mean['profit']/1000000\n",
    "del md_genre_mean['profit']\n",
    "md_genre_mean['revenue_million'] = md_genre_mean['revenue']/1000000\n",
    "del md_genre_mean['revenue']\n",
    "md_genre_mean['budget_million'] =md_genre_mean['budget']/1000000\n",
    "del md_genre_mean['budget']"
   ]
  },
  {
   "cell_type": "code",
   "execution_count": null,
   "metadata": {
    "_uuid": "9dcdaf0900ec7fd61dbd4af037ae6f82201c9337",
    "collapsed": true
   },
   "outputs": [],
   "source": [
    "# Get distribution of mean of variables grouped by genre\n",
    "md_genre_mean.hist(color='DarkBlue',figsize= (10,10));"
   ]
  },
  {
   "cell_type": "markdown",
   "metadata": {
    "_uuid": "4618c7326864422e9186c5e56e803b082d038055"
   },
   "source": [
    "All means of variables per genre are skewed. Mean of runtime across genres is closest to being normally distributed."
   ]
  },
  {
   "cell_type": "code",
   "execution_count": null,
   "metadata": {
    "_uuid": "a11f6283d13750f306f4b1f2dd24e8f6743b069b",
    "collapsed": true,
    "scrolled": true
   },
   "outputs": [],
   "source": [
    "# Overall Descriptive statistics\n",
    "md.describe()"
   ]
  },
  {
   "cell_type": "code",
   "execution_count": null,
   "metadata": {
    "_uuid": "0e67e6b18381dec448bc73f3f6e3bf474fa3f239",
    "collapsed": true
   },
   "outputs": [],
   "source": [
    "# Get movies with highest budget, profit, popularity\n",
    "md.nlargest(3, 'budget')"
   ]
  },
  {
   "cell_type": "code",
   "execution_count": null,
   "metadata": {
    "_uuid": "fcfd3a4ca47c896a80169a2913d886fa1c3f6ad7",
    "collapsed": true
   },
   "outputs": [],
   "source": [
    "md.nlargest(3, 'profit')"
   ]
  },
  {
   "cell_type": "code",
   "execution_count": null,
   "metadata": {
    "_uuid": "17fb0d1bfc85cb88e95b125a321d8c5ff0c5cbb3",
    "collapsed": true
   },
   "outputs": [],
   "source": [
    "md.nlargest(3, 'popularity')"
   ]
  },
  {
   "cell_type": "markdown",
   "metadata": {
    "_uuid": "9c9cbbe1c02c3fa9b4f493b527f172a0512bd3de"
   },
   "source": [
    "The Warrior's Way had the highest budget with 425 mio USD. Avatar made the most profit with 2,544 mio USD. The most popular movie was Jurassic World."
   ]
  },
  {
   "cell_type": "code",
   "execution_count": null,
   "metadata": {
    "_uuid": "ab5dce34ef8e058c61117543c8e6fc5357e618d7",
    "collapsed": true,
    "scrolled": false
   },
   "outputs": [],
   "source": [
    "# Get movies made per year, create new data frame\n",
    "md_year = pd.DataFrame(md_split_genres.groupby('release_year').original_title.nunique())\n",
    "md_year.head()"
   ]
  },
  {
   "cell_type": "code",
   "execution_count": null,
   "metadata": {
    "_uuid": "073d7414dc0274309263160453919c1a5fadbb6d",
    "collapsed": true
   },
   "outputs": [],
   "source": [
    "# Get max of movies made per year\n",
    "md_year.nlargest(5,'original_title')"
   ]
  },
  {
   "cell_type": "code",
   "execution_count": null,
   "metadata": {
    "_uuid": "fd912743677c8c8bcf1a8234da7545542d7c6f8a",
    "collapsed": true,
    "scrolled": false
   },
   "outputs": [],
   "source": [
    "# Plot data, line chart for showing development over the years\n",
    "md_year.plot.line(title = 'Movies made per year',color='DarkBlue',figsize=(10, 8));"
   ]
  },
  {
   "cell_type": "markdown",
   "metadata": {
    "_uuid": "a05f422087ea0aa5f24283460249bd7af8bf5443"
   },
   "source": [
    "In this graph we see that over time more and more movies were made per year. Starting at just 32 movies in 1960 up to 627 per year in 2015 with a max of 699 movies in 2014."
   ]
  },
  {
   "cell_type": "code",
   "execution_count": null,
   "metadata": {
    "_uuid": "c2674c70b699b8825c2e5aa1503ebe47711b95f1",
    "collapsed": true
   },
   "outputs": [],
   "source": [
    "# Get mean of variables grouped by year (new data frame) in order to see what changed\n",
    "md_year_mean = md_split_genres.groupby('release_year').mean()"
   ]
  },
  {
   "cell_type": "code",
   "execution_count": null,
   "metadata": {
    "_uuid": "444bd88cab66ae4ff8ca4defea1db6f1d0cb47cf",
    "collapsed": true,
    "scrolled": true
   },
   "outputs": [],
   "source": [
    "# Check results\n",
    "md_year_mean.head()"
   ]
  },
  {
   "cell_type": "code",
   "execution_count": null,
   "metadata": {
    "_uuid": "85750ce043b3ef7bd9a9ee1c877669b2d760f7f0",
    "collapsed": true
   },
   "outputs": [],
   "source": [
    "# plot the development of revenue, profit and budget of movies over the years\n",
    "md_year_mean[['revenue','profit','budget']].plot(title = 'TBD',color=('DarkBlue','c','crimson'),linestyle=('-'),figsize=(10, 8));"
   ]
  },
  {
   "cell_type": "markdown",
   "metadata": {
    "_uuid": "aa12f5e2063cbf6c779aa171c5cf2ebdd0d0f2a3"
   },
   "source": [
    "In the chart above we can observe that revenue and profit developed almost in parallel until the early 1980s. In the 1980s budget is increasing more sharply. Probably as a consequence the gap between revenue and profit is starting to emerge. Producing movies got more expensive while simultaneously more and more movies were made and more and more people started to watch movies. Thus, during the 1990s revenues keept increasing while profit was dropping. At the end of the 1990s budget starts decreasing, probably due to technological progress, and therefore profits start to increase again. Since still more and more movies are being made...  "
   ]
  },
  {
   "cell_type": "code",
   "execution_count": null,
   "metadata": {
    "_uuid": "e1b3315ad23563eb877d683580609bd6d48c381d",
    "collapsed": true,
    "scrolled": false
   },
   "outputs": [],
   "source": [
    "md_year_mean[['vote_average', 'vote_count']].plot(title = 'TBD',color=('DarkBlue','c'),figsize=(10, 8),secondary_y=['vote_average']);"
   ]
  },
  {
   "cell_type": "markdown",
   "metadata": {
    "_uuid": "ce5af41a161a80a3c26b9d917dd79ad59e820fa5"
   },
   "source": [
    "In this graph we see that vote average is decreasing over the years while the vote count is rising constantly. So more people vote but in general movies are getting worse?! Or people seem to like movies less..."
   ]
  },
  {
   "cell_type": "code",
   "execution_count": null,
   "metadata": {
    "_uuid": "907e9a48e403a7276bb105fecf7ffb446771c485",
    "collapsed": true
   },
   "outputs": [],
   "source": [
    "# Lets turn to genres, reminder of what the split looked like\n",
    "md_split_genres.head()"
   ]
  },
  {
   "cell_type": "code",
   "execution_count": null,
   "metadata": {
    "_uuid": "f2c237329a201ce7361434546338c7928eebb765",
    "collapsed": true
   },
   "outputs": [],
   "source": [
    "# How many different genres do we have?\n",
    "md_split_genres['genres'].unique()"
   ]
  },
  {
   "cell_type": "code",
   "execution_count": null,
   "metadata": {
    "_uuid": "1c71a52d6e016a0b5f7c59a6450b85477121678d",
    "collapsed": true
   },
   "outputs": [],
   "source": [
    "len(md_split_genres['genres'].unique())"
   ]
  },
  {
   "cell_type": "markdown",
   "metadata": {
    "_uuid": "73d90460219c499cebf3cd4b5da2352a765fb99c"
   },
   "source": [
    "Overall, we have movies from 20 unique genres."
   ]
  },
  {
   "cell_type": "markdown",
   "metadata": {
    "_uuid": "e97912c72b364ce829c427643a7394255f80afca"
   },
   "source": [
    "### Research Questions"
   ]
  },
  {
   "cell_type": "markdown",
   "metadata": {
    "_uuid": "1af4ab3d6396370ad2d2295b77b3be7dad09b470"
   },
   "source": [
    "<a id='q1'></a>\n",
    "#### Q1. Which genres are the most common (number of movies made)?"
   ]
  },
  {
   "cell_type": "code",
   "execution_count": null,
   "metadata": {
    "_uuid": "ef0123ccbe1df8129ba7e8ca8796d9d3af1e3e25",
    "collapsed": true
   },
   "outputs": [],
   "source": [
    "# Group movies by genre using title as unique identifier and display all genres.\n",
    "md_genre = (pd.DataFrame(md_split_genres.groupby('genres').original_title.nunique())).sort_values('original_title', ascending=True)\n",
    "md_genre.head(20)"
   ]
  },
  {
   "cell_type": "code",
   "execution_count": null,
   "metadata": {
    "_uuid": "07d45862a7a301e70955db9e566fafdff5a1a50a",
    "collapsed": true
   },
   "outputs": [],
   "source": [
    "md_genre['original_title'].plot.pie(title= 'Movies per Genre in %', figsize=(10,10), autopct='%1.1f%%',fontsize=15);"
   ]
  },
  {
   "cell_type": "code",
   "execution_count": null,
   "metadata": {
    "_uuid": "a17cec7bf2d78eba389e4d1d6fc9ff56fe6460de",
    "collapsed": true
   },
   "outputs": [],
   "source": [
    "# Display in bar chart\n",
    "md_genre['original_title'].plot.barh(title = 'Movies per Genre',color='DarkBlue', figsize=(10, 9));\n"
   ]
  },
  {
   "cell_type": "markdown",
   "metadata": {
    "_uuid": "65d3e9d840a715b6bbd92e2223ed6ff62bb680c1"
   },
   "source": [
    "The most common genres are Drama (4672 movies, 17.6%) , Comedy (3750 movies, 14.2%) and Thriller (2841 movies, 10.7%)."
   ]
  },
  {
   "cell_type": "markdown",
   "metadata": {
    "_uuid": "658d5298bce90a0be14ee4755e39472d900194bd"
   },
   "source": [
    "<a id='q2'></a>\n",
    "#### Q2. Which genres have high avg. budget and revenue?"
   ]
  },
  {
   "cell_type": "code",
   "execution_count": null,
   "metadata": {
    "_uuid": "25e3dc049021db129cc56d7ee72e8288ac44be55",
    "collapsed": true
   },
   "outputs": [],
   "source": [
    "# Check results\n",
    "md_genre_mean.head()"
   ]
  },
  {
   "cell_type": "code",
   "execution_count": null,
   "metadata": {
    "_uuid": "5bb7002ed2b0eabe568cc4de9ffd33346ce96d68",
    "collapsed": true
   },
   "outputs": [],
   "source": [
    "# Sort data in acending order \n",
    "md_genre_mean.sort_values('budget_million', ascending=True, inplace = True )"
   ]
  },
  {
   "cell_type": "code",
   "execution_count": null,
   "metadata": {
    "_uuid": "2d50e220f3ded567ea2224ac6cac628acb5a180f",
    "collapsed": true
   },
   "outputs": [],
   "source": [
    "# Create bar chart with revenue and budget\n",
    "md_genre_mean[['revenue_million', 'budget_million']].plot.barh(stacked=False, title = 'Budget and Revenue by Genre (US$ million)',color=('DarkBlue','c'), figsize=(15, 10));"
   ]
  },
  {
   "cell_type": "markdown",
   "metadata": {
    "_uuid": "95a3a53e8c060d959874159785f951c63c9a1a65"
   },
   "source": [
    "In the graph above we clearly see that the genre Adventure has both the highest avg. budget and revenue. Fantasy comes second in budget and revenue. Interestingly, Animation has the third highest revenue but only the sixth highest budget. Meaning Animation movies are on avg. more profitable. Lets look at profitability of the genres."
   ]
  },
  {
   "cell_type": "markdown",
   "metadata": {
    "_uuid": "94faa3198acf32391e91a1708abeb5e25b50cfb9"
   },
   "source": [
    "<a id='q3'></a>\n",
    "#### Q3. Which genres have high avg. profit?"
   ]
  },
  {
   "cell_type": "code",
   "execution_count": null,
   "metadata": {
    "_uuid": "42af2916c2ae3668c8e517549c53e23167a969c1",
    "collapsed": true
   },
   "outputs": [],
   "source": [
    "md_genre_mean.sort_values('profit_million', ascending=True, inplace = True )\n",
    "md_genre_mean['profit_million'].plot.barh(stacked=False, title = 'Profit by Genre (US$ million)',color='DarkBlue', figsize=(10, 9));"
   ]
  },
  {
   "cell_type": "markdown",
   "metadata": {
    "_uuid": "c926f0cebea27269fed038ca6c45453a582a5c59"
   },
   "source": [
    "The top 5 genres in terms of avg. profit are Adventure, Fantasy, Animation, Family and Science Fiction."
   ]
  },
  {
   "cell_type": "markdown",
   "metadata": {
    "_uuid": "0e910b42f74cefe06b29ef1a1ab1f98bfa847247"
   },
   "source": [
    "<a id='q4'></a>\n",
    "#### Q4. Which genres have high vote avg.?"
   ]
  },
  {
   "cell_type": "code",
   "execution_count": null,
   "metadata": {
    "_uuid": "7bbe0894fef175c5e01f1060ab8c454c4d82f17c",
    "collapsed": true
   },
   "outputs": [],
   "source": [
    "md_genre_mean.sort_values('vote_average', ascending=True, inplace = True)\n",
    "md_genre_mean[['vote_average']].plot.barh(stacked=True, title = 'Voting Avg by Genre',color='DarkBlue', figsize=(10, 9));"
   ]
  },
  {
   "cell_type": "markdown",
   "metadata": {
    "_uuid": "c634bc99c562ee123b00fa0e3f96b6496afba26e"
   },
   "source": [
    "Documentaries, Music and History have the hightest voting avg. Then comes Animation."
   ]
  },
  {
   "cell_type": "markdown",
   "metadata": {
    "_uuid": "6d085ec74c775d3eafcece8a2e1f3270a5ecf6a9"
   },
   "source": [
    "<a id='q5'></a>\n",
    "#### Q5. Which genres have high avg. popularity?"
   ]
  },
  {
   "cell_type": "code",
   "execution_count": null,
   "metadata": {
    "_uuid": "62c99d5e8eeafd2271ef5a27eceb369f406e53d1",
    "collapsed": true,
    "scrolled": false
   },
   "outputs": [],
   "source": [
    "md_genre_mean.sort_values('popularity', ascending=True, inplace = True)\n",
    "md_genre_mean[['popularity']].plot.barh(stacked=True, title = 'Genres by Avg Popularity',color='DarkBlue', figsize=(10, 9));\n"
   ]
  },
  {
   "cell_type": "markdown",
   "metadata": {
    "_uuid": "a70a42ce473d519614b0b9c534457ce004893f5c"
   },
   "source": [
    "The most popular genres are Adventure, Science Fiction, Fantasy, Action and again Animation."
   ]
  },
  {
   "cell_type": "markdown",
   "metadata": {
    "_uuid": "d0673ce688554c7136d50ad04561a6aff8bad644"
   },
   "source": [
    "<aid='q6'></a>\n",
    "#### Q6. Which genres have high avg. vote count?"
   ]
  },
  {
   "cell_type": "code",
   "execution_count": null,
   "metadata": {
    "_uuid": "683090e9b3138fbcf52c63d5d9433ef2a0cabec7",
    "collapsed": true
   },
   "outputs": [],
   "source": [
    "md_genre_mean.sort_values('vote_count', ascending=True, inplace = True)\n",
    "md_genre_mean[['vote_count']].plot.barh(stacked=True, title = 'Genres by Avg Vote Count',color='DarkBlue',figsize=(10, 9));"
   ]
  },
  {
   "cell_type": "markdown",
   "metadata": {
    "_uuid": "97193bfdbe2b4adb24a9409e20e695e5c7d827c8"
   },
   "source": [
    "However, Documentary, Music and History have a relatively low number of votes. Compared to Adventure, Science Fiction and Fantasy. Then comes Action and again Animation."
   ]
  },
  {
   "cell_type": "markdown",
   "metadata": {
    "_uuid": "5188146e5399e275b58b9104b3c2be1a4a6be676"
   },
   "source": [
    "<a id='q7'></a>\n",
    "#### Q7. Which genres have high number of movies with an voting avg. >=8?"
   ]
  },
  {
   "cell_type": "code",
   "execution_count": null,
   "metadata": {
    "_uuid": "b53b7038aead2897e322d55cb55a08833a824a42",
    "collapsed": true,
    "scrolled": false
   },
   "outputs": [],
   "source": [
    "md_8 = md_split_genres[md_split_genres['vote_average']>=8]\n",
    "md_8 = (pd.DataFrame(md_split_genres.groupby('genres').original_title.nunique())).sort_values('original_title', ascending=True )\n",
    "md_8[['original_title']].plot.barh(stacked=True, title = 'Genres with >= 8 ratings', figsize=(10, 9),color='DarkBlue');\n"
   ]
  },
  {
   "cell_type": "markdown",
   "metadata": {
    "_uuid": "6043094404c1588d714e16c21926b5ec1309331e"
   },
   "source": [
    "The genre drama has the most movies with a rating of at least 8."
   ]
  },
  {
   "cell_type": "markdown",
   "metadata": {
    "_uuid": "048d46f7a299b35fe7fa40f589fd8010aaf4c30e"
   },
   "source": [
    "<a id='analysis'></a>\n",
    "#### Analysis of development of means of variables per genre over the years"
   ]
  },
  {
   "cell_type": "code",
   "execution_count": null,
   "metadata": {
    "_uuid": "255a84fd27ef477202c2213d9bdd1d226c15aa86",
    "collapsed": true,
    "scrolled": false
   },
   "outputs": [],
   "source": [
    "# Reminder of how the data frame looked like, when we splitted for genres\n",
    "md_split_genres.head()"
   ]
  },
  {
   "cell_type": "code",
   "execution_count": null,
   "metadata": {
    "_uuid": "e7f7e9bd25dd84af869b9869d067bfc4ed3cda64",
    "collapsed": true,
    "scrolled": false
   },
   "outputs": [],
   "source": [
    "# Create data frame grouped by genres AND release year, get means of variables of interest\n",
    "md_year_genre_mean = pd.DataFrame(md_split_genres.groupby(['release_year','genres'])['revenue', 'budget','profit','vote_average','vote_count','popularity'].mean())\n",
    "md_year_genre_mean.head()"
   ]
  },
  {
   "cell_type": "markdown",
   "metadata": {
    "_uuid": "20113f4fd47ef254e9e129b2d916f092d9fcd55b"
   },
   "source": [
    "#### Profit per genre per year"
   ]
  },
  {
   "cell_type": "code",
   "execution_count": null,
   "metadata": {
    "_uuid": "fc12df23bc36bb1bc978b8444455d2830ca52d2a",
    "collapsed": true,
    "scrolled": true
   },
   "outputs": [],
   "source": [
    "# Create data frame for average profit per genre per year\n",
    "md_year_genre_profit = pd.DataFrame(md_split_genres.groupby(['release_year','genres'])['profit'].mean())\n",
    "md_year_genre_profit.head()"
   ]
  },
  {
   "cell_type": "code",
   "execution_count": null,
   "metadata": {
    "_uuid": "c01ef673dc9f14ff144187ec9410319e052961a2",
    "collapsed": true,
    "scrolled": true
   },
   "outputs": [],
   "source": [
    "# pivot data to get the shape that is necessary for a heatmap that displays genres, years and avg. profit per genre per year\n",
    "md_heat_profit_pivot = pd.pivot_table(md_year_genre_profit, values='profit', index=['genres'], columns=['release_year'])\n",
    "md_heat_profit_pivot.head()"
   ]
  },
  {
   "cell_type": "code",
   "execution_count": null,
   "metadata": {
    "_uuid": "7e8add5faf77c8aed5b0d4d97585dbdb076d7429",
    "collapsed": true,
    "scrolled": false
   },
   "outputs": [],
   "source": [
    "# display heatmap\n",
    "sns.set(rc={'figure.figsize':(15,10)})\n",
    "sns.heatmap(md_heat_profit_pivot, linewidths=.5, cmap='YlGnBu');"
   ]
  },
  {
   "cell_type": "markdown",
   "metadata": {
    "_uuid": "169368d8f3a844941720e2b716b243b3f8f58c11"
   },
   "source": [
    "This heatmap displays the average profit per genre per year from 1960 to 2015. The darker blue fields show higher profit, the brighter green into yellow fields show lower profit. In general, profits are increasing over time for especially for the genres Action, Adventure Animation, Family, Fantasy and Science Fiction.\n",
    "Animation movies had a very profitable year in 1961. History in 1991 and Western in 1998. Adventure in 2012."
   ]
  },
  {
   "cell_type": "markdown",
   "metadata": {
    "_uuid": "8b04509a33e0714d1d584b2f50d09e155138986b"
   },
   "source": [
    "#### Revenue per genre per year"
   ]
  },
  {
   "cell_type": "code",
   "execution_count": null,
   "metadata": {
    "_uuid": "cf7327f7bf3cf8f0be74ccb51babd61ddc846b37",
    "collapsed": true,
    "scrolled": false
   },
   "outputs": [],
   "source": [
    "md_year_genre_revenue = pd.DataFrame(md_split_genres.groupby(['release_year','genres'])['revenue'].mean())\n",
    "md_heat_revenue_pivot = pd.pivot_table(md_year_genre_revenue, values='revenue', index=['genres'], columns=['release_year'])\n",
    "sns.set(rc={'figure.figsize':(15,10)})\n",
    "sns.heatmap(md_heat_revenue_pivot, linewidths=.5, cmap='YlGnBu');"
   ]
  },
  {
   "cell_type": "markdown",
   "metadata": {
    "_uuid": "d57843ba362ca2f82f7897b0c15d8b4b374cac40"
   },
   "source": [
    "In terms of revenue the heatmap is of course closely related to the heatmap of profit showing a strong increase for Action, Adventure, Animation, Family, Fantasy and Science Fiction over the years. Nevertheless, the increases of revenue are more visible in the heatmap since revenues increased more sharply over the years than profit. The outliers for Animation movies in 1961 and History in 1991, Western in 1998 and Adventure in 2012 are also visible in the revenue heatmap. Outliers could be due to a view outperformers and very successful movies."
   ]
  },
  {
   "cell_type": "markdown",
   "metadata": {
    "_uuid": "f725e89f6190f9d8b533acc6b8ea053934e9c753"
   },
   "source": [
    "#### Budget per genre per year"
   ]
  },
  {
   "cell_type": "code",
   "execution_count": null,
   "metadata": {
    "_uuid": "49c79b930f3715c97dd03425e71973c58bc42fe0",
    "collapsed": true,
    "scrolled": false
   },
   "outputs": [],
   "source": [
    "md_year_genre_budget = pd.DataFrame(md_split_genres.groupby(['release_year','genres'])['budget'].mean())\n",
    "md_heat_budget_pivot = pd.pivot_table(md_year_genre_budget, values='budget', index=['genres'], columns=['release_year'])\n",
    "sns.set(rc={'figure.figsize':(15,10)})\n",
    "sns.heatmap(md_heat_budget_pivot, linewidths=.5, cmap='YlGnBu');"
   ]
  },
  {
   "cell_type": "markdown",
   "metadata": {
    "_uuid": "a76578792b763a5c8b3e28e814a0dc67586575ef"
   },
   "source": [
    "The heatmap shows that in particular the movies of the genres Action, Adventure, Family, Fantasy and Science Fiction had an increasing budget over the years. The heatmap also shows that Western movies had an extremely high budget in 1998 and 2011. This could mean that a costly movie is produced in 1998 (maybe even the successful one) and 2011 which has great influence on the average. This outlier could be removed for a later analysis to get a better overview of the distribution of the rest of the movies."
   ]
  },
  {
   "cell_type": "markdown",
   "metadata": {
    "_uuid": "df9f167bd8e3fcd7e373341007c553b8290ec05b"
   },
   "source": [
    "#### Vote Average per genre per year"
   ]
  },
  {
   "cell_type": "code",
   "execution_count": null,
   "metadata": {
    "_uuid": "65bb85373d3482c5902cc208fee1faefaa5bb2da",
    "collapsed": true,
    "scrolled": false
   },
   "outputs": [],
   "source": [
    "md_year_genre_vote_avg = pd.DataFrame(md_split_genres.groupby(['release_year','genres'])['vote_average'].mean())\n",
    "md_heat_vote_avg_pivot = pd.pivot_table(md_year_genre_vote_avg, values='vote_average', index=['genres'], columns=['release_year'])\n",
    "sns.set(rc={'figure.figsize':(15,10)})\n",
    "sns.heatmap(md_heat_vote_avg_pivot, linewidths=.5, cmap='YlGnBu');"
   ]
  },
  {
   "cell_type": "markdown",
   "metadata": {
    "_uuid": "3f095d4fdc7475c4bbfd689126b7fe242dfd1afa"
   },
   "source": [
    "This heatmap is way more blue than the previous ones. It seems that movies across genres got a better rating from ~1975 to 1985. Most of the genres seem to be getting somewhere around a 6 to 6.4 out of 10 score, though. Especially notable is the fact that there are very few green or yellow colored cells, which could mean that most movies are on average just a not so bad."
   ]
  },
  {
   "cell_type": "markdown",
   "metadata": {
    "_uuid": "3ca06f65422eb7b8418cff0dd3bd7b1774b1b1d4"
   },
   "source": [
    "#### Vote Count per genre per year"
   ]
  },
  {
   "cell_type": "code",
   "execution_count": null,
   "metadata": {
    "_uuid": "eb382752bc937482e66585996e87515c2dc9f13d",
    "collapsed": true
   },
   "outputs": [],
   "source": [
    "md_year_genre_vote_count = pd.DataFrame(md_split_genres.groupby(['release_year','genres'])['vote_count'].mean())\n",
    "md_heat_vote_count_pivot = pd.pivot_table(md_year_genre_vote_count, values='vote_count', index=['genres'], columns=['release_year'])\n",
    "sns.set(rc={'figure.figsize':(15,10)})\n",
    "sns.heatmap(md_heat_vote_count_pivot, linewidths=.5, cmap='YlGnBu');"
   ]
  },
  {
   "cell_type": "markdown",
   "metadata": {
    "_uuid": "a32fe7e0ffbd302e31ec903465996fc38ea4b34b"
   },
   "source": [
    "The heatmap shows that in particular the movies of the genres Action, Adventure, Fantasy and Science Fiction as well as Western had an increasing vote count over the years. Especially, Western movies had a extremely high avg. vote count in 2012."
   ]
  },
  {
   "cell_type": "markdown",
   "metadata": {
    "_uuid": "d4e128b78fdbfe24df911670cdb7350e3fde3f15"
   },
   "source": [
    "#### Popularity per genre per year"
   ]
  },
  {
   "cell_type": "code",
   "execution_count": null,
   "metadata": {
    "_uuid": "5d3c5e28242f2757e13ef79e78b22e524de17fb8",
    "collapsed": true
   },
   "outputs": [],
   "source": [
    "md_year_genre_pop = pd.DataFrame(md_split_genres.groupby(['release_year','genres'])['popularity'].mean())\n",
    "md_heat_pop_pivot = pd.pivot_table(md_year_genre_pop, values='popularity', index=['genres'], columns=['release_year'])\n",
    "sns.set(rc={'figure.figsize':(15,10)})\n",
    "sns.heatmap(md_heat_pop_pivot, linewidths=.5, cmap='YlGnBu');"
   ]
  },
  {
   "cell_type": "markdown",
   "metadata": {
    "_uuid": "2e579bc60b7d4dc3f84b668acac54d5f88dd4a90"
   },
   "source": [
    "The heatmap shows that in particular the movies of the genres Action, Adventure, Fantasy and Science Fiction as well as Western had an increasing popularity over the years. Especially, Western movies had a extremely high avg. populartiy in 2012 (same as vote count). Moreover, Animation had a very high popularity in 1961 (maybe the high revenue/ profit movie). "
   ]
  },
  {
   "cell_type": "markdown",
   "metadata": {
    "_uuid": "815707076fb7cdc6dcca1d47e558249e50e444ff"
   },
   "source": [
    "### Research Hypotheses"
   ]
  },
  {
   "cell_type": "markdown",
   "metadata": {
    "_uuid": "45cdadced1352de119876beebafc4a93bdc5b08f"
   },
   "source": [
    "<a id='h1'></a>\n",
    "#### H1. The best movies according to vote avg. return high profit and revenue."
   ]
  },
  {
   "cell_type": "code",
   "execution_count": null,
   "metadata": {
    "_uuid": "b2ddccbc7e65da4f7eb4c04e7b88e5ea77f5f9a0",
    "collapsed": true,
    "scrolled": true
   },
   "outputs": [],
   "source": [
    "md.corr(method='pearson')"
   ]
  },
  {
   "cell_type": "markdown",
   "metadata": {
    "_uuid": "22706cda38b92336f9780f50bd94b9eeb6a063d9"
   },
   "source": [
    "To see if there is a linear relationship b/w profit (revenue) and vote avg. I used the correlation coefficient of pearson and displayed the results in a table. With a coefficient of ~0.184 there is no evidence of a strong postive linear relationship b/w profit and vote avg. The same holds true for revenue with a coefficient of ~0.173. So movies with a higher avg. voting do not necessarily bring in high profits and revenues. There is no strong evidence in the data for hypothesis 1.\n",
    "\n",
    "I displayed the correlation in a scatterplot for visualization."
   ]
  },
  {
   "cell_type": "code",
   "execution_count": null,
   "metadata": {
    "_uuid": "e84158fddf5812038a35c3fc225e0435507d5beb",
    "collapsed": true
   },
   "outputs": [],
   "source": [
    "md.plot.scatter(x='vote_average', y='profit',title='Profit vs Vote Avg',color='DarkBlue',figsize=(6,5));"
   ]
  },
  {
   "cell_type": "code",
   "execution_count": null,
   "metadata": {
    "_uuid": "6d8c8358dbd6946b3fc664e0a70dd42c4fe7bcb4",
    "collapsed": true
   },
   "outputs": [],
   "source": [
    "md.plot.scatter(x='vote_average', y='revenue',title='Revenue vs Vote Avg',color='DarkBlue',figsize=(6,5));"
   ]
  },
  {
   "cell_type": "markdown",
   "metadata": {
    "_uuid": "6f1a0ba606ab498c19de1235f1f392db6d390bc7"
   },
   "source": [
    "Here, we see that there is no clear positve linear relationship since a lot of movies have a high voting avg. but only moderatly profit and revenue. Both scatterplots are similar since profit is derived from revenue. "
   ]
  },
  {
   "cell_type": "markdown",
   "metadata": {
    "_uuid": "6c8323fcf914a6014fe94b2453a58c59df32b1ca"
   },
   "source": [
    "#### Additonal FInding\n",
    "However, the strongest linear relationship is evident b/w profit (revenue) and vote count ~0.756 and ~0.791, respectievly. It turns out that there is a strong linear relationship b/w proft (revenue) and the number of votes. Movies with a high number of votes seem to return high profit and revenue.\n"
   ]
  },
  {
   "cell_type": "code",
   "execution_count": null,
   "metadata": {
    "_uuid": "8c7ca78ab8999cee1c16cfd281caa27edeb283fe",
    "collapsed": true
   },
   "outputs": [],
   "source": [
    "md.plot.scatter(x='vote_count', y='profit',title='Profit vs Vote Count', color='DarkBlue', figsize=(6,5));"
   ]
  },
  {
   "cell_type": "code",
   "execution_count": null,
   "metadata": {
    "_uuid": "62c49a3ee8eb173b65f1277fab8a27699cce258c",
    "collapsed": true
   },
   "outputs": [],
   "source": [
    "md.plot.scatter(x='vote_count', y='revenue',title='Revenue vs Vote Count', color='DarkBlue', figsize=(6,5));"
   ]
  },
  {
   "cell_type": "markdown",
   "metadata": {
    "_uuid": "1278e91e51e9fa6ee23fcda9ffb6a1d631de69bd"
   },
   "source": [
    "<a id='h2'></a>\n",
    "#### H2. The best movies according to popularity return high profit and revenue."
   ]
  },
  {
   "cell_type": "code",
   "execution_count": null,
   "metadata": {
    "_uuid": "9deec1ecf6399198972c5a47c4fbff730ebf2b43",
    "collapsed": true
   },
   "outputs": [],
   "source": [
    "md.plot.scatter(x='popularity', y='profit',title='Profit vs Popularity', color='DarkBlue', figsize=(6,5));"
   ]
  },
  {
   "cell_type": "code",
   "execution_count": null,
   "metadata": {
    "_uuid": "08b28a59c5737b0de54af74b49cd009a497ccc60",
    "collapsed": true
   },
   "outputs": [],
   "source": [
    "md.plot.scatter(x='popularity', y='revenue',title='Revenue vs Popularity', color='DarkBlue', figsize=(6,5));"
   ]
  },
  {
   "cell_type": "markdown",
   "metadata": {
    "_uuid": "75478274ac3872829e3dbbdeb7430577010a6d17"
   },
   "source": [
    "If we look at the relationship of avg. profit (revenue) with popularity we find that the correlation is more evident in the data. We get a correlation coefficient of ~0.629 for profit and popularity which demonstrates a moderate linear postive relationship. For revenue (which is closely related to profit since profit is calculated based on revenue) we get an even stronger linear relationship with a coefficient of ~0.663. This means that movies with a high avg. popularity rating did bring in on avg. more profit and revenue. There is moderate evidence in the data for hypothesis 2. OUTLIERS???"
   ]
  },
  {
   "cell_type": "markdown",
   "metadata": {
    "_uuid": "65e85cc9231f2463e4bbf11f117fdd45dbe0286e"
   },
   "source": [
    "<a id='h3'></a>\n",
    "#### H3. Highly budgeted movies return high revenue and profit."
   ]
  },
  {
   "cell_type": "code",
   "execution_count": null,
   "metadata": {
    "_uuid": "a65414d868dd44f023566dbaecb76f9d312ea553",
    "collapsed": true
   },
   "outputs": [],
   "source": [
    "md.plot.scatter(x='revenue', y='budget',title='Budget vs Revenue', color='DarkBlue', figsize=(6,5));"
   ]
  },
  {
   "cell_type": "code",
   "execution_count": null,
   "metadata": {
    "_uuid": "a71b58a32da3aa39ba717644a57e94bf1390b284",
    "collapsed": true
   },
   "outputs": [],
   "source": [
    "md.plot.scatter(x='profit', y='budget',title='Budget vs Profit', color='DarkBlue', figsize=(6,5));"
   ]
  },
  {
   "cell_type": "markdown",
   "metadata": {
    "_uuid": "1a4506aa8356d96f0f68bd1cd7e51e164a070faf"
   },
   "source": [
    "The correlation coefficient b/w budget and revenue is ~0.735. Here we have a strong linear relationship. We find strong evidence in the data that support hypothesis 3: Higly budgeted movies return in general higher revenue.\n",
    "\n",
    "For budget and profit we find evidence for a moderate linear relationship with a coefficient of ~0.570."
   ]
  },
  {
   "cell_type": "markdown",
   "metadata": {
    "_uuid": "f5bad25c6f8b1eb5c05f25db64ba345883636d39"
   },
   "source": [
    "<a id='h4'></a>\n",
    "#### H4. Highly budgeted movies have a high vote avg."
   ]
  },
  {
   "cell_type": "code",
   "execution_count": null,
   "metadata": {
    "_uuid": "e2b35994f8dcbdb6fc2f83aaf85b88531475c4e2",
    "collapsed": true
   },
   "outputs": [],
   "source": [
    "md.plot.scatter(x='vote_average', y='budget',title='Budget vs Vote Avg', color='DarkBlue', figsize=(6,5));"
   ]
  },
  {
   "cell_type": "markdown",
   "metadata": {
    "_uuid": "b7b5c854cf59d5a88e2dcd0bd4844c61707bf96d"
   },
   "source": [
    "There is no linear relationship b/w budget and vote avg (coefficient of ~0.082). We can reject hypothesis 4. Only because a movie has a high budget does not mean that it will receive a high voting avg."
   ]
  },
  {
   "cell_type": "markdown",
   "metadata": {
    "_uuid": "5518313c54469056a807fbe140603de4eb81d8cf"
   },
   "source": [
    "<a id='h5'></a>\n",
    "#### H5. Highly budgeted movies have a high popularity."
   ]
  },
  {
   "cell_type": "code",
   "execution_count": null,
   "metadata": {
    "_uuid": "e3a7e0adfe5c3d55381b3c2af316358bc611e6d4",
    "collapsed": true
   },
   "outputs": [],
   "source": [
    "md.plot.scatter(x='popularity', y='budget',title='Budget vs Popularity', color='DarkBlue', figsize=(6,5));"
   ]
  },
  {
   "cell_type": "markdown",
   "metadata": {
    "_uuid": "278fd4c9fb4f5fb6919398cd1b64b5891389f881"
   },
   "source": [
    "We find a moderate linear relationship b/w budget and popularity with a correlation coefficient of ~0.545 and with that moderate evidence for hypothesis 5: Movies with a high budget seem to have moderately higher popularity."
   ]
  },
  {
   "cell_type": "markdown",
   "metadata": {
    "_uuid": "7282004b291ef3992ff02a58590da290f6d550aa"
   },
   "source": [
    "<a id='conclusions'></a>\n",
    "## Conclusions\n",
    "\n",
    "So which genre should you pick if you want to produce a movie?\n",
    "\n",
    "- If you want profit you should go for Adventure, Fantasy or Animation (Top 3 in terms of profit).\n",
    "- If you want high rating go for Documentary, Music or History. (Taking into account that you will not have very much viewers and therefore revenue)\n",
    "- If you want high popularity go for Adventure, Science Fiction or Fantasy.\n",
    "- In general, profits (revenues) are increasing over time especially for the genres Action, Adventure, Animation, Family, Fantasy and Science Fiction. Animation movies had a very profitable year in 1961. History in 1991 and Western in 1998. Adventure in 2012.\n",
    "- Also, movies of the genres Action, Adventure, Family, Fantasy and Science Fiction had an increasing budget over the years. The heatmap also shows that Western movies had an extremely high budget in 1998 and 2011.\n",
    "\n",
    "Let's again look at the research hypotheses:\n",
    "\n",
    "- Movies with a high avg. voting do not necessarily bring in high profits and revenues.\n",
    "- However, movies with a high avg. popularity rating seem to bring in on avg. more profit and revenue.\n",
    "- Higly budgeted movies return in general higher revenue, but not necessarily high profit (moderate linear relationship)\n",
    "- Only because a movie has a high budget, does not mean that it becomes a great movie with a very high avg. rating.\n",
    "\n",
    "However, these relations are merely correlations and do not imply causation.\n",
    "\n",
    "### Limitations\n",
    "\n",
    "The hypothesis questions were analyzed using the correlation coefficient. They all assume values in the range from −1 to +1, where +1 indicates the strongest possible agreement and −1 the strongest possible disagreement, in terms of linear relationship. As tools of analysis, correlation coefficients present certain problems, including the propensity of some types to be distorted by outliers and the possibility of incorrectly being used to infer a causal relationship between the variables.\n",
    "Therefore, these relations are merely correlations and do not imply causation. No statistical tests have been made to determine the robustness of relationships.\n",
    "\n",
    "The hypotheses should be investigated further. \n",
    "\n",
    "### Resources\n",
    "https://seaborn.pydata.org/generated/seaborn.heatmap.html\n",
    "https://stackoverflow.com/questions/37790429/seaborn-heatmap-using-pandas-dataframe\n",
    "https://stackoverflow.com/questions/31594549/how-do-i-change-the-figure-size-for-a-seaborn-plot\n",
    "https://pandas.pydata.org/pandas-docs/stable/generated/pandas.DataFrame.pivot.html\n",
    "https://pandas.pydata.org/pandas-docs/stable/reshaping.html\n",
    "https://github.com/pandas-dev/pandas/issues/11076\n",
    "https://pandas.pydata.org/pandas-docs/stable/generated/pandas.DataFrame.plot.html\n",
    "https://pandas.pydata.org/pandas-docs/stable/visualization.html\n",
    "https://stackoverflow.com/questions/38337918/plot-pie-chart-and-table-of-pandas-dataframe\n",
    "https://www.kaggle.com/rdrubbel/tmdb-analysis\n",
    "https://github.com/AjaSharma93/TMDB-Data-Analysis/blob/master/TMDB_Report.ipynb\n",
    "https://github.com/nirupamaprv/Investigate_Dataset/blob/master/Investigate_a_Dataset_TMDb.ipynb\n",
    "https://github.com/abhishekchhibber/IMDB_Dataset_Analysis/blob/master/imdb_db_analysis_abhishek_chhibber.ipynb\n"
   ]
  },
  {
   "cell_type": "code",
   "execution_count": null,
   "metadata": {
    "_uuid": "712e1e9803405d25d0cc508624cd1b9512c98811",
    "collapsed": true
   },
   "outputs": [],
   "source": []
  }
 ],
 "metadata": {
  "kernelspec": {
   "display_name": "Python 3",
   "language": "python",
   "name": "python3"
  },
  "language_info": {
   "codemirror_mode": {
    "name": "ipython",
    "version": 3
   },
   "file_extension": ".py",
   "mimetype": "text/x-python",
   "name": "python",
   "nbconvert_exporter": "python",
   "pygments_lexer": "ipython3",
   "version": "3.9.1"
  }
 },
 "nbformat": 4,
 "nbformat_minor": 1
}